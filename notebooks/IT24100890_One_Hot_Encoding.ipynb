{
  "nbformat": 4,
  "nbformat_minor": 0,
  "metadata": {
    "colab": {
      "provenance": []
    },
    "kernelspec": {
      "name": "python3",
      "display_name": "Python 3"
    },
    "language_info": {
      "name": "python"
    }
  },
  "cells": [
    {
      "cell_type": "code",
      "execution_count": 1,
      "metadata": {
        "colab": {
          "base_uri": "https://localhost:8080/"
        },
        "id": "JuVNhmlMhMAQ",
        "outputId": "07e6c5e2-531b-48d3-9f72-d4406ea6ddaf"
      },
      "outputs": [
        {
          "output_type": "stream",
          "name": "stdout",
          "text": [
            "Original DataFrame Info:\n",
            "<class 'pandas.core.frame.DataFrame'>\n",
            "RangeIndex: 1100 entries, 0 to 1099\n",
            "Data columns (total 21 columns):\n",
            " #   Column                        Non-Null Count  Dtype\n",
            "---  ------                        --------------  -----\n",
            " 0   anxiety_level                 1100 non-null   int64\n",
            " 1   self_esteem                   1100 non-null   int64\n",
            " 2   mental_health_history         1100 non-null   int64\n",
            " 3   depression                    1100 non-null   int64\n",
            " 4   headache                      1100 non-null   int64\n",
            " 5   blood_pressure                1100 non-null   int64\n",
            " 6   sleep_quality                 1100 non-null   int64\n",
            " 7   breathing_problem             1100 non-null   int64\n",
            " 8   noise_level                   1100 non-null   int64\n",
            " 9   living_conditions             1100 non-null   int64\n",
            " 10  safety                        1100 non-null   int64\n",
            " 11  basic_needs                   1100 non-null   int64\n",
            " 12  academic_performance          1100 non-null   int64\n",
            " 13  study_load                    1100 non-null   int64\n",
            " 14  teacher_student_relationship  1100 non-null   int64\n",
            " 15  future_career_concerns        1100 non-null   int64\n",
            " 16  social_support                1100 non-null   int64\n",
            " 17  peer_pressure                 1100 non-null   int64\n",
            " 18  extracurricular_activities    1100 non-null   int64\n",
            " 19  bullying                      1100 non-null   int64\n",
            " 20  stress_level                  1100 non-null   int64\n",
            "dtypes: int64(21)\n",
            "memory usage: 180.6 KB\n",
            "\n",
            "First 5 rows of the original data:\n",
            "   anxiety_level  self_esteem  mental_health_history  depression  headache  \\\n",
            "0             14           20                      0          11         2   \n",
            "1             15            8                      1          15         5   \n",
            "2             12           18                      1          14         2   \n",
            "3             16           12                      1          15         4   \n",
            "4             16           28                      0           7         2   \n",
            "\n",
            "   blood_pressure  sleep_quality  breathing_problem  noise_level  \\\n",
            "0               1              2                  4            2   \n",
            "1               3              1                  4            3   \n",
            "2               1              2                  2            2   \n",
            "3               3              1                  3            4   \n",
            "4               3              5                  1            3   \n",
            "\n",
            "   living_conditions  ...  basic_needs  academic_performance  study_load  \\\n",
            "0                  3  ...            2                     3           2   \n",
            "1                  1  ...            2                     1           4   \n",
            "2                  2  ...            2                     2           3   \n",
            "3                  2  ...            2                     2           4   \n",
            "4                  2  ...            3                     4           3   \n",
            "\n",
            "   teacher_student_relationship  future_career_concerns  social_support  \\\n",
            "0                             3                       3               2   \n",
            "1                             1                       5               1   \n",
            "2                             3                       2               2   \n",
            "3                             1                       4               1   \n",
            "4                             1                       2               1   \n",
            "\n",
            "   peer_pressure  extracurricular_activities  bullying  stress_level  \n",
            "0              3                           3         2             1  \n",
            "1              4                           5         5             2  \n",
            "2              3                           2         2             1  \n",
            "3              4                           4         5             2  \n",
            "4              5                           0         5             1  \n",
            "\n",
            "[5 rows x 21 columns]\n"
          ]
        }
      ],
      "source": [
        "import pandas as pd\n",
        "\n",
        "# Load the dataset\n",
        "df = pd.read_csv('StressLevelDataset.csv')\n",
        "\n",
        "# Display data types and non-null values\n",
        "print(\"Original DataFrame Info:\")\n",
        "df.info()\n",
        "\n",
        "# Display the first 5 rows to show the data format\n",
        "print(\"\\nFirst 5 rows of the original data:\")\n",
        "print(df.head())"
      ]
    },
    {
      "cell_type": "code",
      "source": [
        "# --- STEP 2: Attempt One-Hot Encoding and Compare ---\n",
        "print(\"\\n--- Step 2: Attempting One-Hot Encoding and Comparing ---\")\n",
        "df_encoded = pd.get_dummies(df)\n",
        "\n",
        "# Display the info of the \"encoded\" data\n",
        "print(\"Encoded DataFrame Info:\")\n",
        "df_encoded.info()"
      ],
      "metadata": {
        "colab": {
          "base_uri": "https://localhost:8080/"
        },
        "id": "d1KkJjZMidND",
        "outputId": "5f268ac8-0587-4cd7-dcc7-18ad6092ce55"
      },
      "execution_count": 7,
      "outputs": [
        {
          "output_type": "stream",
          "name": "stdout",
          "text": [
            "\n",
            "--- Step 2: Attempting One-Hot Encoding and Comparing ---\n",
            "Encoded DataFrame Info:\n",
            "<class 'pandas.core.frame.DataFrame'>\n",
            "RangeIndex: 1100 entries, 0 to 1099\n",
            "Data columns (total 21 columns):\n",
            " #   Column                        Non-Null Count  Dtype\n",
            "---  ------                        --------------  -----\n",
            " 0   anxiety_level                 1100 non-null   int64\n",
            " 1   self_esteem                   1100 non-null   int64\n",
            " 2   mental_health_history         1100 non-null   int64\n",
            " 3   depression                    1100 non-null   int64\n",
            " 4   headache                      1100 non-null   int64\n",
            " 5   blood_pressure                1100 non-null   int64\n",
            " 6   sleep_quality                 1100 non-null   int64\n",
            " 7   breathing_problem             1100 non-null   int64\n",
            " 8   noise_level                   1100 non-null   int64\n",
            " 9   living_conditions             1100 non-null   int64\n",
            " 10  safety                        1100 non-null   int64\n",
            " 11  basic_needs                   1100 non-null   int64\n",
            " 12  academic_performance          1100 non-null   int64\n",
            " 13  study_load                    1100 non-null   int64\n",
            " 14  teacher_student_relationship  1100 non-null   int64\n",
            " 15  future_career_concerns        1100 non-null   int64\n",
            " 16  social_support                1100 non-null   int64\n",
            " 17  peer_pressure                 1100 non-null   int64\n",
            " 18  extracurricular_activities    1100 non-null   int64\n",
            " 19  bullying                      1100 non-null   int64\n",
            " 20  stress_level                  1100 non-null   int64\n",
            "dtypes: int64(21)\n",
            "memory usage: 180.6 KB\n"
          ]
        }
      ]
    },
    {
      "cell_type": "code",
      "source": [
        "print(\"\\n--- Step 3: Generating and Interpreting a Histogram ---\")\n",
        "plt.figure(figsize=(10, 6))\n",
        "sns.histplot(data=df, x='stress_level', discrete=True, shrink=0.8)\n",
        "plt.title('Distribution of Stress Levels')\n",
        "plt.xlabel('Stress Level')\n",
        "plt.ylabel('Number of Students')\n",
        "plt.xticks([0, 1, 2])\n",
        "plt.show()"
      ],
      "metadata": {
        "colab": {
          "base_uri": "https://localhost:8080/",
          "height": 599
        },
        "id": "tTLy6EDapgre",
        "outputId": "c5425957-ff27-428f-819b-ac34da5412f3"
      },
      "execution_count": 12,
      "outputs": [
        {
          "output_type": "stream",
          "name": "stdout",
          "text": [
            "\n",
            "--- Step 3: Generating and Interpreting a Histogram ---\n"
          ]
        },
        {
          "output_type": "display_data",
          "data": {
            "text/plain": [
              "<Figure size 1000x600 with 1 Axes>"
            ],
            "image/png": "[encoded data removed]"
          },
          "metadata": {}
        }
      ]
    }
  ]
}